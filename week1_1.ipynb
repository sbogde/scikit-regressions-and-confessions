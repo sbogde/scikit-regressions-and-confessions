{
  "cells": [
    {
      "cell_type": "markdown",
      "metadata": {
        "id": "view-in-github",
        "colab_type": "text"
      },
      "source": [
        "<a href=\"https://colab.research.google.com/github/sbogde/scikit-regressions-and-confessions/blob/main/week1_1.ipynb\" target=\"_parent\"><img src=\"https://colab.research.google.com/assets/colab-badge.svg\" alt=\"Open In Colab\"/></a>"
      ]
    },
    {
      "cell_type": "code",
      "execution_count": 1,
      "id": "40fbd02f",
      "metadata": {
        "colab": {
          "base_uri": "https://localhost:8080/"
        },
        "id": "40fbd02f",
        "outputId": "955236c8-0a16-4117-a312-03e8b236ce74"
      },
      "outputs": [
        {
          "output_type": "stream",
          "name": "stdout",
          "text": [
            "Python version: 3.10.12 (main, Sep 11 2024, 15:47:36) [GCC 11.4.0]\n"
          ]
        }
      ],
      "source": [
        "import sys\n",
        "import math\n",
        "print(\"Python version:\", sys.version)"
      ]
    },
    {
      "cell_type": "code",
      "source": [],
      "metadata": {
        "id": "-fUVrHKPusmx"
      },
      "id": "-fUVrHKPusmx",
      "execution_count": 1,
      "outputs": []
    },
    {
      "cell_type": "code",
      "execution_count": 2,
      "id": "8397465d",
      "metadata": {
        "colab": {
          "base_uri": "https://localhost:8080/"
        },
        "id": "8397465d",
        "outputId": "18e86d17-1b6e-4b94-ee70-fda0dde04376"
      },
      "outputs": [
        {
          "output_type": "stream",
          "name": "stdout",
          "text": [
            "scikit-learn version: 1.5.2\n"
          ]
        }
      ],
      "source": [
        "try:\n",
        "    import sklearn\n",
        "    print(\"scikit-learn version:\", sklearn.__version__)\n",
        "except ImportError:\n",
        "    print(\"scikit-learn is not installed.\")\n"
      ]
    },
    {
      "cell_type": "code",
      "execution_count": 3,
      "id": "27f69dc6",
      "metadata": {
        "colab": {
          "base_uri": "https://localhost:8080/"
        },
        "id": "27f69dc6",
        "outputId": "d9de2a5d-c47a-43a1-8e4d-7e425fbd509f"
      },
      "outputs": [
        {
          "output_type": "stream",
          "name": "stdout",
          "text": [
            "Num GPUs Available:  0\n"
          ]
        }
      ],
      "source": [
        "import tensorflow as tf\n",
        "print(\"Num GPUs Available: \", len(tf.config.list_physical_devices('GPU')))\n"
      ]
    },
    {
      "cell_type": "code",
      "execution_count": 4,
      "id": "998ad209",
      "metadata": {
        "colab": {
          "base_uri": "https://localhost:8080/"
        },
        "id": "998ad209",
        "outputId": "b153819a-140a-4a7d-db31-9fbd1156016d"
      },
      "outputs": [
        {
          "output_type": "stream",
          "name": "stdout",
          "text": [
            "Is CUDA available: False\n",
            "GPU count: 0\n"
          ]
        }
      ],
      "source": [
        "import torch\n",
        "print(\"Is CUDA available:\", torch.cuda.is_available())\n",
        "print(\"GPU count:\", torch.cuda.device_count())\n"
      ]
    },
    {
      "cell_type": "code",
      "execution_count": 5,
      "id": "78e351e8",
      "metadata": {
        "id": "78e351e8"
      },
      "outputs": [],
      "source": [
        "def sum_two_numbers(a:int, b:int):\n",
        "    result = a + b\n",
        "    print(\"The sum is:\", result)\n"
      ]
    },
    {
      "cell_type": "code",
      "execution_count": 6,
      "id": "bdfad703",
      "metadata": {
        "colab": {
          "base_uri": "https://localhost:8080/"
        },
        "id": "bdfad703",
        "outputId": "53ab98b3-7b13-4bdb-acd3-6f707ee10d4e"
      },
      "outputs": [
        {
          "output_type": "stream",
          "name": "stdout",
          "text": [
            "The sum is: 8.1\n"
          ]
        }
      ],
      "source": [
        "sum_two_numbers(3.1, 5)"
      ]
    },
    {
      "cell_type": "code",
      "execution_count": 7,
      "id": "785d234a",
      "metadata": {
        "id": "785d234a"
      },
      "outputs": [],
      "source": [
        "def circle_metrics(radius):\n",
        "    area = math.pi * radius ** 2\n",
        "    perimeter = 2 * math.pi * radius\n",
        "    return area, perimeter"
      ]
    },
    {
      "cell_type": "code",
      "execution_count": 8,
      "id": "18d220b8",
      "metadata": {
        "colab": {
          "base_uri": "https://localhost:8080/"
        },
        "id": "18d220b8",
        "outputId": "f7a42514-73e3-4d17-db75-fc64ef230b4e"
      },
      "outputs": [
        {
          "output_type": "stream",
          "name": "stdout",
          "text": [
            "Area: 78.53981633974483\n",
            "Perimeter: 31.41592653589793\n"
          ]
        }
      ],
      "source": [
        "radius = 5\n",
        "area, perimeter = circle_metrics(radius)\n",
        "print(\"Area:\", area)\n",
        "print(\"Perimeter:\", perimeter)"
      ]
    },
    {
      "cell_type": "code",
      "execution_count": 9,
      "id": "5761ff5b",
      "metadata": {
        "id": "5761ff5b"
      },
      "outputs": [],
      "source": [
        "def midpoint(x1, y1, x2, y2):\n",
        "    mid_x = (x1 + x2) / 2\n",
        "    mid_y = (y1 + y2) / 2\n",
        "    print(\"Midpoint coordinates:\", (mid_x, mid_y))\n"
      ]
    },
    {
      "cell_type": "code",
      "execution_count": 10,
      "id": "c3a81450",
      "metadata": {
        "colab": {
          "base_uri": "https://localhost:8080/"
        },
        "id": "c3a81450",
        "outputId": "7b7e89e0-9b12-424a-8792-65404b20c2f4"
      },
      "outputs": [
        {
          "output_type": "stream",
          "name": "stdout",
          "text": [
            "Midpoint coordinates: (5.0, 6.5)\n"
          ]
        }
      ],
      "source": [
        "midpoint(2, 3, 8, 10)"
      ]
    },
    {
      "cell_type": "code",
      "execution_count": 11,
      "id": "7a8eaf3b",
      "metadata": {
        "id": "7a8eaf3b"
      },
      "outputs": [],
      "source": [
        "def print_triangular_numbers(n):\n",
        "    for i in range(1, n + 1):\n",
        "        triangular_number = (i * (i + 1)) // 2\n",
        "        print(f\"Triangular number {i}: {triangular_number}\")\n"
      ]
    },
    {
      "cell_type": "code",
      "execution_count": 12,
      "id": "0ff40e04",
      "metadata": {
        "colab": {
          "base_uri": "https://localhost:8080/"
        },
        "id": "0ff40e04",
        "outputId": "7cc72ab5-5bc5-4de5-d148-ec92a416c366"
      },
      "outputs": [
        {
          "output_type": "stream",
          "name": "stdout",
          "text": [
            "Triangular number 1: 1\n",
            "Triangular number 2: 3\n",
            "Triangular number 3: 6\n",
            "Triangular number 4: 10\n",
            "Triangular number 5: 15\n",
            "Triangular number 6: 21\n"
          ]
        }
      ],
      "source": [
        "print_triangular_numbers(6)\n"
      ]
    },
    {
      "cell_type": "code",
      "execution_count": 13,
      "id": "1958e15e",
      "metadata": {
        "id": "1958e15e"
      },
      "outputs": [],
      "source": [
        "def calculate_missing_value(F=None, M=None, A=None):\n",
        "    if F is None and M is not None and A is not None:\n",
        "        # Calculate Force (F = M * A)\n",
        "        return M * A\n",
        "    elif M is None and F is not None and A is not None:\n",
        "        # Calculate Mass (M = F / A)\n",
        "        return F / A\n",
        "    elif A is None and F is not None and M is not None:\n",
        "        # Calculate Acceleration (A = F / M)\n",
        "        return F / M\n",
        "    else:\n",
        "        # If more than one parameter is None or all are provided, return an error message\n",
        "        return \"Invalid input: Exactly one of F, M, or A must be None.\"\n",
        "\n"
      ]
    },
    {
      "cell_type": "code",
      "execution_count": 14,
      "id": "6cc70fd4",
      "metadata": {
        "colab": {
          "base_uri": "https://localhost:8080/"
        },
        "id": "6cc70fd4",
        "outputId": "dd591166-498e-45c7-d6d8-3124ea30aaa3"
      },
      "outputs": [
        {
          "output_type": "stream",
          "name": "stdout",
          "text": [
            "50\n",
            "10.0\n",
            "5.0\n"
          ]
        }
      ],
      "source": [
        "# Example 1: Calculate Force\n",
        "print(calculate_missing_value(F=None, M=10, A=5))  # Output: 50\n",
        "\n",
        "# Example 2: Calculate Mass\n",
        "print(calculate_missing_value(F=50, M=None, A=5))  # Output: 10.0\n",
        "\n",
        "# Example 3: Calculate Acceleration\n",
        "print(calculate_missing_value(F=50, M=10, A=None))  # Output: 5.0\n"
      ]
    },
    {
      "cell_type": "code",
      "execution_count": 15,
      "id": "539b4ecc",
      "metadata": {
        "id": "539b4ecc"
      },
      "outputs": [],
      "source": [
        "def solve_quadratic(a, b, c):\n",
        "    discriminant = b**2 - 4*a*c  # Calculate the discriminant\n",
        "\n",
        "    if discriminant > 0:\n",
        "        # Two real roots\n",
        "        root1 = (-b + math.sqrt(discriminant)) / (2 * a)\n",
        "        root2 = (-b - math.sqrt(discriminant)) / (2 * a)\n",
        "        return f\"Two real roots: {root1} and {root2}\"\n",
        "\n",
        "    elif discriminant == 0:\n",
        "        # One real root (repeated)\n",
        "        root = -b / (2 * a)\n",
        "        return f\"One real root: {root}\"\n",
        "\n",
        "    else:\n",
        "        # Two complex roots\n",
        "        real_part = -b / (2 * a)\n",
        "        imaginary_part = math.sqrt(-discriminant) / (2 * a)\n",
        "        root1 = complex(real_part, imaginary_part)\n",
        "        root2 = complex(real_part, -imaginary_part)\n",
        "        return f\"Two complex roots: {root1} and {root2}\"\n"
      ]
    },
    {
      "cell_type": "code",
      "execution_count": 16,
      "id": "1059b67b",
      "metadata": {
        "colab": {
          "base_uri": "https://localhost:8080/"
        },
        "id": "1059b67b",
        "outputId": "3648159c-c920-43bc-87cc-41ff496af2ff"
      },
      "outputs": [
        {
          "output_type": "stream",
          "name": "stdout",
          "text": [
            "Two real roots: 2.0 and 1.0\n",
            "One real root: 1.0\n",
            "Two complex roots: (-1+2j) and (-1-2j)\n"
          ]
        }
      ],
      "source": [
        "print(solve_quadratic(1, -3, 2))   # Example with two real roots\n",
        "print(solve_quadratic(1, -2, 1))   # Example with one real root\n",
        "print(solve_quadratic(1, 2, 5))    # Example with two complex roots"
      ]
    },
    {
      "cell_type": "code",
      "source": [
        "m = [2,4]\n",
        "n = [1,3]\n",
        "\n",
        "final_list = m+n*2+m\n",
        "\n",
        "print(final_list)"
      ],
      "metadata": {
        "colab": {
          "base_uri": "https://localhost:8080/"
        },
        "id": "zRZNFs1c2I_G",
        "outputId": "1d1b5519-b7e9-4ef1-d17e-50aaca7e3ad7"
      },
      "id": "zRZNFs1c2I_G",
      "execution_count": 17,
      "outputs": [
        {
          "output_type": "stream",
          "name": "stdout",
          "text": [
            "[2, 4, 1, 3, 1, 3, 2, 4]\n"
          ]
        }
      ]
    },
    {
      "cell_type": "code",
      "execution_count": 18,
      "id": "c53cadff",
      "metadata": {
        "colab": {
          "base_uri": "https://localhost:8080/"
        },
        "id": "c53cadff",
        "outputId": "1c1e3a61-d03a-4602-cc0b-186e4961af9d"
      },
      "outputs": [
        {
          "output_type": "execute_result",
          "data": {
            "text/plain": [
              "25"
            ]
          },
          "metadata": {},
          "execution_count": 18
        }
      ],
      "source": [
        "def function1(num):\n",
        "    return num**2\n",
        "\n",
        "function1(5)\n"
      ]
    },
    {
      "cell_type": "markdown",
      "source": [
        "# Print \"Hello world\" a random number of times between 5 and 25 ⚡"
      ],
      "metadata": {
        "id": "UjKJibdNvTwg"
      },
      "id": "UjKJibdNvTwg"
    },
    {
      "cell_type": "code",
      "source": [
        "import random\n",
        "\n",
        "# the Pythonic approach\n",
        "nr = random.randint(5, 25)\n",
        "for _ in range(nr):\n",
        "    print(\"Hello world\")\n"
      ],
      "metadata": {
        "colab": {
          "base_uri": "https://localhost:8080/"
        },
        "id": "0ojC0pZjuu86",
        "outputId": "c8e03c49-cee0-42ee-8c95-31ff124cf6cf"
      },
      "id": "0ojC0pZjuu86",
      "execution_count": 19,
      "outputs": [
        {
          "output_type": "stream",
          "name": "stdout",
          "text": [
            "Hello world\n",
            "Hello world\n",
            "Hello world\n",
            "Hello world\n",
            "Hello world\n",
            "Hello world\n",
            "Hello world\n",
            "Hello world\n",
            "Hello world\n",
            "Hello world\n",
            "Hello world\n",
            "Hello world\n",
            "Hello world\n",
            "Hello world\n",
            "Hello world\n",
            "Hello world\n",
            "Hello world\n"
          ]
        }
      ]
    },
    {
      "cell_type": "code",
      "source": [
        "# Concise print method\n",
        "nr = random.randint(5, 25)\n",
        "print((\"Hello world\\n\" * nr).strip())\n"
      ],
      "metadata": {
        "colab": {
          "base_uri": "https://localhost:8080/"
        },
        "id": "mqsPrVOouy1J",
        "outputId": "3512ee38-4ef3-4084-c590-afe3ae3f5b00"
      },
      "id": "mqsPrVOouy1J",
      "execution_count": 20,
      "outputs": [
        {
          "output_type": "stream",
          "name": "stdout",
          "text": [
            "Hello world\n",
            "Hello world\n",
            "Hello world\n",
            "Hello world\n",
            "Hello world\n",
            "Hello world\n",
            "Hello world\n",
            "Hello world\n"
          ]
        }
      ]
    },
    {
      "cell_type": "code",
      "source": [
        "# Concise print method\n",
        "nr = random.randint(5, 25)\n",
        "print(\"Hello world\\n\" * nr)\n"
      ],
      "metadata": {
        "colab": {
          "base_uri": "https://localhost:8080/"
        },
        "id": "ybx2JZCJCnK1",
        "outputId": "7175b839-a0a3-4dd9-f6be-e4a35c4d6237"
      },
      "id": "ybx2JZCJCnK1",
      "execution_count": 21,
      "outputs": [
        {
          "output_type": "stream",
          "name": "stdout",
          "text": [
            "Hello world\n",
            "Hello world\n",
            "Hello world\n",
            "Hello world\n",
            "Hello world\n",
            "Hello world\n",
            "Hello world\n",
            "Hello world\n",
            "Hello world\n",
            "Hello world\n",
            "Hello world\n",
            "Hello world\n",
            "Hello world\n",
            "Hello world\n",
            "Hello world\n",
            "Hello world\n",
            "Hello world\n",
            "Hello world\n",
            "Hello world\n",
            "Hello world\n",
            "\n"
          ]
        }
      ]
    },
    {
      "cell_type": "code",
      "source": [],
      "metadata": {
        "id": "ZRNvxlRivjfP"
      },
      "id": "ZRNvxlRivjfP",
      "execution_count": 21,
      "outputs": []
    }
  ],
  "metadata": {
    "kernelspec": {
      "display_name": "Python 3 (ipykernel)",
      "language": "python",
      "name": "python3"
    },
    "language_info": {
      "codemirror_mode": {
        "name": "ipython",
        "version": 3
      },
      "file_extension": ".py",
      "mimetype": "text/x-python",
      "name": "python",
      "nbconvert_exporter": "python",
      "pygments_lexer": "ipython3",
      "version": "3.9.12"
    },
    "colab": {
      "provenance": [],
      "include_colab_link": true
    }
  },
  "nbformat": 4,
  "nbformat_minor": 5
}