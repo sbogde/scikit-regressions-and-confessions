{
  "nbformat": 4,
  "nbformat_minor": 0,
  "metadata": {
    "colab": {
      "provenance": [],
      "authorship_tag": "ABX9TyMOPFxB545oq1ZpF+McHQWu",
      "include_colab_link": true
    },
    "kernelspec": {
      "name": "python3",
      "display_name": "Python 3"
    },
    "language_info": {
      "name": "python"
    }
  },
  "cells": [
    {
      "cell_type": "markdown",
      "metadata": {
        "id": "view-in-github",
        "colab_type": "text"
      },
      "source": [
        "<a href=\"https://colab.research.google.com/github/sbogde/scikit-regressions-and-confessions/blob/main/week3_05_random_forest_work.ipynb\" target=\"_parent\"><img src=\"https://colab.research.google.com/assets/colab-badge.svg\" alt=\"Open In Colab\"/></a>"
      ]
    },
    {
      "cell_type": "code",
      "execution_count": 17,
      "metadata": {
        "id": "7P8MxLYAiOzA"
      },
      "outputs": [],
      "source": [
        "import numpy as np\n",
        "import matplotlib.pyplot as plt"
      ]
    },
    {
      "cell_type": "code",
      "source": [
        "from sklearn.ensemble import RandomForestRegressor\n",
        "from sklearn.model_selection import cross_val_score, KFold\n",
        "from sklearn.datasets import make_regression\n"
      ],
      "metadata": {
        "id": "118dkzuPlwQ2"
      },
      "execution_count": 18,
      "outputs": []
    },
    {
      "cell_type": "code",
      "source": [
        "# Step 1: Generate synthetic regression data\n",
        "# Creating a dataset with 200 samples and 5 features, adding slight noise\n",
        "X, y = make_regression(n_samples=200, n_features=5, noise=0.2, random_state=42)"
      ],
      "metadata": {
        "id": "BCH_c7XciaPV"
      },
      "execution_count": 19,
      "outputs": []
    },
    {
      "cell_type": "code",
      "source": [
        "# Step 2: Initialize RandomForestRegressor\n",
        "# Setting up the model with 100 trees in the forest and a random state\n",
        "model = RandomForestRegressor(n_estimators=100, random_state=42)"
      ],
      "metadata": {
        "id": "1BJ3eEvnicEu"
      },
      "execution_count": 20,
      "outputs": []
    },
    {
      "cell_type": "code",
      "source": [
        "# Step 3: Set up KFold cross-validation\n",
        "# Using 5 folds for cross-validation to split the data\n",
        "# Each part will be used once as the validation set while the remaining 4 parts are used for training\n",
        "kfold = KFold(n_splits=5, shuffle=True, random_state=42)"
      ],
      "metadata": {
        "id": "n26-5_VAiekf"
      },
      "execution_count": 21,
      "outputs": []
    },
    {
      "cell_type": "code",
      "source": [
        "# Step 4: Perform cross-validation\n",
        "# Calculating the cross-validation scores using negative mean squared error as the scoring method\n",
        "# (We use negative MSE because higher values typically indicate better performance in sklearn metrics)\n",
        "cv_scores = cross_val_score(model, X, y, cv=kfold, scoring='neg_mean_squared_error')\n"
      ],
      "metadata": {
        "id": "r9Q0LCtYij5w"
      },
      "execution_count": 23,
      "outputs": []
    },
    {
      "cell_type": "code",
      "source": [
        "# Step 5: Convert scores to positive for visualization\n",
        "# Since the scores are returned as negative (to fit into a \"maximize score\" framework),\n",
        "# we convert them to positive MSE values\n",
        "cv_scores = -cv_scores\n",
        "cv_mean = cv_scores.mean()\n",
        "cv_std = cv_scores.std()"
      ],
      "metadata": {
        "id": "qeh2Z9J_im1f"
      },
      "execution_count": 24,
      "outputs": []
    },
    {
      "cell_type": "code",
      "source": [
        "# Print the results\n",
        "print(\"Cross-validation Mean Squared Error scores:\", cv_scores)\n",
        "print(\"Mean MSE score:\", cv_mean)\n",
        "print(\"Standard Deviation of MSE scores:\", cv_std)"
      ],
      "metadata": {
        "id": "8IF5MzgcipnL",
        "colab": {
          "base_uri": "https://localhost:8080/"
        },
        "outputId": "dd0a6049-2c99-4da7-affc-96ef21264ce7"
      },
      "execution_count": 25,
      "outputs": [
        {
          "output_type": "stream",
          "name": "stdout",
          "text": [
            "Cross-validation Mean Squared Error scores: [778.86382806 771.06632642 906.62028352 521.22819489 639.97386224]\n",
            "Mean MSE score: 723.550499025603\n",
            "Standard Deviation of MSE scores: 131.72033493913457\n"
          ]
        }
      ]
    },
    {
      "cell_type": "code",
      "source": [],
      "metadata": {
        "id": "M7uG5fWkrB-n"
      },
      "execution_count": null,
      "outputs": []
    }
  ]
}